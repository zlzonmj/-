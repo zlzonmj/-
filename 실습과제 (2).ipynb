{
 "cells": [
  {
   "cell_type": "markdown",
   "id": "5ee2e352-0393-43d5-830d-d79143e62848",
   "metadata": {},
   "source": [
    "## 예외처리기"
   ]
  },
  {
   "cell_type": "code",
   "execution_count": 1,
   "id": "428f9981-aba7-411c-911c-475ec361fb3f",
   "metadata": {},
   "outputs": [
    {
     "name": "stdin",
     "output_type": "stream",
     "text": [
      "두 자연수 입력: 8 0\n"
     ]
    },
    {
     "name": "stdout",
     "output_type": "stream",
     "text": [
      "0으로 나눌 수 없습니다.\n",
      "good\n"
     ]
    }
   ],
   "source": [
    "try:\n",
    "  a,b = map(int, input(\"두 자연수 입력:\").split())\n",
    "  c = a/b\n",
    "  print(f'{a} / {b} = {c}')\n",
    "except ValueError:\n",
    "    print(\"숫자를 올바르게 입력해주세요.\")\n",
    "except ZeroDivisionError:\n",
    "    print(\"0으로 나눌 수 없습니다.\")\n",
    "finally:\n",
    "    print(\"good\")"
   ]
  },
  {
   "cell_type": "code",
   "execution_count": null,
   "id": "d5c31d7d-bf59-43f9-b8d1-a7c59af507f0",
   "metadata": {},
   "outputs": [],
   "source": []
  }
 ],
 "metadata": {
  "kernelspec": {
   "display_name": "Python 3 (ipykernel)",
   "language": "python",
   "name": "python3"
  },
  "language_info": {
   "codemirror_mode": {
    "name": "ipython",
    "version": 3
   },
   "file_extension": ".py",
   "mimetype": "text/x-python",
   "name": "python",
   "nbconvert_exporter": "python",
   "pygments_lexer": "ipython3",
   "version": "3.11.7"
  }
 },
 "nbformat": 4,
 "nbformat_minor": 5
}
