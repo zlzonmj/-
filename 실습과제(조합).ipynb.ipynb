{
 "cells": [
  {
   "cell_type": "markdown",
   "id": "47d56344-8187-4714-8991-36ddeeea4d97",
   "metadata": {},
   "source": [
    "# **0530 실습과제(1)**\n",
    "## **숫자열을 순회하면서 서로 다른 세개의 숫자합이 소수가 되는 갯수를 출력하는 python code를 작성하세요.**"
   ]
  },
  {
   "cell_type": "code",
   "execution_count": 20,
   "id": "17c7661f-a5b9-4812-8956-4e2b870e4ffb",
   "metadata": {},
   "outputs": [
    {
     "name": "stdout",
     "output_type": "stream",
     "text": [
      "6\n"
     ]
    }
   ],
   "source": [
    "from itertools import combinations\n",
    "\n",
    "def is_prime(num):\n",
    "    if num < 2:\n",
    "        return False\n",
    "    for i in range(2, num):\n",
    "        if num % i == 0:\n",
    "            return False \n",
    "    return True\n",
    "    \n",
    "def has_duplicates(nums):\n",
    "    return len(nums) != len(set(nums))\n",
    "\n",
    "def is_valid_number(num):\n",
    "    return 1 <= num <= 1000\n",
    "\n",
    "def solution(nums):\n",
    "    if len(nums) < 3:\n",
    "        return 0\n",
    "    \n",
    "    if has_duplicates(nums):\n",
    "        return 0\n",
    "    \n",
    "    count = 0\n",
    "    for combination in combinations(nums, 3):\n",
    "        if is_prime(sum(combination)):\n",
    "            count += 1\n",
    "    return count\n",
    "\n",
    "nums = [1, 2, 3, 4, 6, 5]\n",
    "print(solution(nums))"
   ]
  },
  {
   "cell_type": "markdown",
   "id": "f2993c06-56f0-4865-a034-04c5eb53f015",
   "metadata": {},
   "source": [
    "#### 코드설명 \n",
    "\n",
    "<pre><code><b>\n",
    "def is_prime(num):\n",
    "    if num < 2:\n",
    "        return False\n",
    "    for i in range(2, num):\n",
    "        if num % i == 0:\n",
    "            return False \n",
    "    return True\n",
    "</b></code></pre>\n",
    "###### 어떤 숫자가 소수인지 판별하는 함수를 정의합니다.\n",
    "\n",
    "<pre><code><b>\n",
    "def has_duplicates(nums):\n",
    "    return len(nums) != len(set(nums))\n",
    "\n",
    "def is_valid_number(num):\n",
    "    return 1 <= num <= 1000\n",
    "</b></code></pre>\n",
    "###### 중복된 숫자가 있는지, 범위 내의 숫자로 구성되었는지 확인하는 함수를 정의합니다.\n",
    "\n",
    "<pre><code><b>\n",
    "def solution(nums):\n",
    "    if len(nums) < 3:\n",
    "        return 0\n",
    "    \n",
    "    if has_duplicates(nums):\n",
    "        return 0\n",
    "    \n",
    "    count = 0\n",
    "    for combination in combinations(nums, 3):\n",
    "        if is_prime(sum(combination)):\n",
    "            count += 1\n",
    "    return count\n",
    "</b></code></pre>\n",
    "###### solution함수를 정의하고 숫자열들을 순회하며 counting합니다.\n",
    "<pre><code><b>\n",
    "nums = [1, 2, 3, 4, 6, 5]\n",
    "print(solution(nums))\n",
    "</b></code></pre>\n",
    "###### nums의 예제를 작성하고 solution(nums)의 값을 출력합니다."
   ]
  }
 ],
 "metadata": {
  "kernelspec": {
   "display_name": "Python 3 (ipykernel)",
   "language": "python",
   "name": "python3"
  },
  "language_info": {
   "codemirror_mode": {
    "name": "ipython",
    "version": 3
   },
   "file_extension": ".py",
   "mimetype": "text/x-python",
   "name": "python",
   "nbconvert_exporter": "python",
   "pygments_lexer": "ipython3",
   "version": "3.11.7"
  }
 },
 "nbformat": 4,
 "nbformat_minor": 5
}
