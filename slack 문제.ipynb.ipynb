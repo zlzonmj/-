{
 "cells": [
  {
   "cell_type": "markdown",
   "id": "b1de8e56-d44b-403f-a40a-105b6e1727b9",
   "metadata": {},
   "source": [
    "# **0530 assignment**\n",
    "## **1번 문제 (0413 slack)** \n",
    "#### 0부터 9까지의 문자로 된 숫자를 입력 받았을때, 이 입력 값이 0~9까지의 숫자가 각각 한 번 씩만 사용된 것인지 확인하는 python code를 작성하세요."
   ]
  },
  {
   "cell_type": "code",
   "execution_count": null,
   "id": "50949d9b-591e-497f-b8d4-43c8221b0aa3",
   "metadata": {},
   "outputs": [],
   "source": [
    "x = list(map(str, input(\"숫자열 입력(0~9): \").split(\" \")))\n",
    "\n",
    "for num in x:\n",
    "    if len(set(num)) == len(num):\n",
    "        print(\"true\")\n",
    "    else:\n",
    "        print(\"false\")"
   ]
  },
  {
   "cell_type": "markdown",
   "id": "32533331-06a5-45eb-80a7-a92b323e1b7b",
   "metadata": {},
   "source": [
    "**x = list(map(str, input(\"숫자열 입력(0~9): \").split(\" \")))**\n",
    "###### 숫자열 입력을 받고 공백으로 나눕니다. 나눈 숫자열들을 x 변수명의 list 형태로 저장합니다.\n",
    "**for num in x: <br>\n",
    "    if len(set(num)) == len(num): <br>\n",
    "        print(\"true\")<br>\n",
    "    else: <br>\n",
    "        print(\"false\")**\n",
    "###### x를 순회합니다. 순환하면서 x리스트의 중복된 숫자가 제거된 set()길이와 기존 숫자열의 길이 비교를 통해 중복된 숫자가 있는지 확인합니다. 중복된 경우 'true'를 출력하고 외의 경우 'false'를 출력합니다."
   ]
  },
  {
   "cell_type": "markdown",
   "id": "03e2c2de-91f7-49f5-aa73-f6dc38a15713",
   "metadata": {},
   "source": [
    "## **2번 문제(0509)**\n",
    "#### n! = n * (n-1) * ... * 3 * 2 * 1 로 정의한다. 100! 값의 개별 digit 합을 알아보는 python code를 작성하세요."
   ]
  },
  {
   "cell_type": "code",
   "execution_count": null,
   "id": "db48944e-c54e-46a0-baac-44647f66b6e8",
   "metadata": {},
   "outputs": [],
   "source": [
    "a = 1\n",
    "for i in range(100, 0, -1):\n",
    "  a *= i\n",
    "print(a)\n",
    "\n",
    "def sum_digit(x):\n",
    "  if x < 10:\n",
    "    return x\n",
    "  else:\n",
    "    sum = sum_digit(x//10)\n",
    "    return sum + (x % 10)\n",
    "sum_digit(a)"
   ]
  },
  {
   "cell_type": "markdown",
   "id": "284e4a82-7b07-4232-aa87-862b0656244d",
   "metadata": {},
   "source": [
    "<pre><code><b>\n",
    "a = 1\n",
    "for i in range(100, 0, -1):\n",
    "  a *= i\n",
    "print(a)\n",
    "</b></code></pre>\n",
    "###### for 반복문을 이용해 100팩토리얼 값을 출력합니다. \n",
    "\n",
    "<pre><code><b>\n",
    "def sum_digit(x):\n",
    "  if x < 10:\n",
    "    return x\n",
    "  else:\n",
    "    sum = sum_digit(x//10)\n",
    "    return sum + (x % 10)\n",
    "sum_digit(a)\n",
    "</b></code></pre>\n",
    "###### 각 자릿수를 더하는 함수를 정의합니다. x가 10보다 작은 경우 x값 그대로 반환하고, 아닌경우 재귀호출을 통해 각 자릿수를 더한 뒤 반환합니다.\n",
    "(a)"
   ]
  },
  {
   "cell_type": "markdown",
   "id": "46f55af5-d71c-4680-9a0b-8e98b4ecad2b",
   "metadata": {},
   "source": [
    "## **3번문제(0517)**\n",
    "#### 사용자로부터 6개의 번호를 입력으로 받았을 때, 유효한 번호를 입력할 수 있도록 유도하세요. 가령 이미 입력한 번호와 같은 번호를 입력하거나 또는 범위 밖의 번호를 입력하지 않도록 검증하세요. 로또 번호는 random 모듈을 이용해 생성하세요. 사용자가 몇 개의 번호를 맞췄는지 판별하고 몇 등에 당첨되었는지 출력하는 로또 시뮬레이션 python code를 작성하세요."
   ]
  },
  {
   "cell_type": "code",
   "execution_count": null,
   "id": "6122b432-0056-42b6-a5d4-e2d23156aec6",
   "metadata": {},
   "outputs": [],
   "source": [
    "import random\n",
    "\n",
    "def lotto():\n",
    "    user = list(map(int, input(\"로또에 도전하세요: \").split(\" \")))\n",
    "    vali_set = set(user)\n",
    "\n",
    "    for num in user:\n",
    "        if (num < 1 or num > 45):\n",
    "            print(\"유효하지 않은 숫자\")\n",
    "            return\n",
    "\n",
    "    if (len(vali_set) !=len(user)):\n",
    "        print(\"유효하지 않은 숫자\")\n",
    "        return\n",
    "\n",
    "    print(\"나의 로또:\", user)\n",
    "\n",
    "    lottery = []\n",
    "    while len(lottery) < 6:\n",
    "        n = random.randint(1, 45)\n",
    "        if n not in lottery:\n",
    "            lottery.append(n)\n",
    "\n",
    "    print(\"로또 번호:.\", lottery)\n",
    "\n",
    "    n = 0\n",
    "    for num in user:\n",
    "        if num in lottery:\n",
    "            n+=1\n",
    "    if (n==6):\n",
    "        print(\"1등\")\n",
    "    elif (n==5):\n",
    "        print(\"2등\")\n",
    "    elif(n==4):\n",
    "        print(\"3등\")\n",
    "    elif(n==3):\n",
    "        print(\"4등\")\n",
    "    else:\n",
    "        print(\"다음 기회에 계속...\")\n",
    "\n",
    "lotto()"
   ]
  },
  {
   "cell_type": "markdown",
   "id": "bb2148a8-8278-464e-9ff0-0251b5f262b2",
   "metadata": {},
   "source": [
    "<pre><code><b>\n",
    "import random\n",
    "\n",
    "def lotto():\n",
    "    user = list(map(int, input(\"로또에 도전하세요: \").split(\" \")))\n",
    "    vali_set = set(user)\n",
    "\n",
    "    for num in user:\n",
    "        if (num < 1 or num > 45):\n",
    "            print(\"유효하지 않은 숫자\")\n",
    "            return\n",
    "\n",
    "    if (len(vali_set) !=len(user)):\n",
    "        print(\"유효하지 않은 숫자\")\n",
    "        return\n",
    "\n",
    "    print(\"나의 로또:\", user)\n",
    "</b></code></pre>\n",
    "###### Random 모듈을 가져오고 lotto()함수를 정의합니다. 사용자로터 정수 입력을 받아, 공백을 기준으로 map, list에 저장합니다. 사용자가 입력한 정수들이 유효한지 판별하고 올바르게 입력할수있도록 유도합니다.\n",
    "<pre><code><b>\n",
    "lottery = []\n",
    "    while len(lottery) < 6:\n",
    "        n = random.randint(1, 45)\n",
    "        if n not in lottery:\n",
    "            lottery.append(n)\n",
    "\n",
    "    print(\"로또 번호:.\", lottery)\n",
    "</b></code></pre>\n",
    "###로또의 빈 list를 생성합니다. While문을 이용해 지정된 범위 속 6개의 random 숫자들이 중복되지 않게 list에 저장합니다. N은 사용자 입력 번호가 로또 번호와 같은 경우 증가하는 변수입니다. 사용자 입력 번호를 순회하면서 lottery 번호에 있는지 확인하고 변수 값을 증가시킵니다. N값에 따른 등수를 판별, 출력시켜줍니다."
   ]
  }
 ],
 "metadata": {
  "kernelspec": {
   "display_name": "Python 3 (ipykernel)",
   "language": "python",
   "name": "python3"
  },
  "language_info": {
   "codemirror_mode": {
    "name": "ipython",
    "version": 3
   },
   "file_extension": ".py",
   "mimetype": "text/x-python",
   "name": "python",
   "nbconvert_exporter": "python",
   "pygments_lexer": "ipython3",
   "version": "3.11.7"
  }
 },
 "nbformat": 4,
 "nbformat_minor": 5
}
