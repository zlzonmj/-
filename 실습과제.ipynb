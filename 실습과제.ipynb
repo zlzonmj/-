{
 "cells": [
  {
   "cell_type": "markdown",
   "id": "5ee2e352-0393-43d5-830d-d79143e62848",
   "metadata": {},
   "source": [
    "## 예외처리기"
   ]
  },
  {
   "cell_type": "markdown",
   "id": "294b7661-28a7-4637-982f-e4d0bbdec7ff",
   "metadata": {},
   "source": [
    "try:\n",
    "  a,b = map(int, input(\"두 자연수 입력:\").split())\n",
    "  c = a/b\n",
    "  print(f'{a} / {b} = {c}')\n",
    "except ValueError:\n",
    "    print(\"숫자를 올바르게 입력해주세요.\")\n",
    "except ZeroDivisionError:\n",
    "    print(\"0으로 나눌 수 없습니다.\")\n",
    "finally:\n",
    "    print(\"good\")"
   ]
  }
 ],
 "metadata": {
  "kernelspec": {
   "display_name": "Python 3 (ipykernel)",
   "language": "python",
   "name": "python3"
  },
  "language_info": {
   "codemirror_mode": {
    "name": "ipython",
    "version": 3
   },
   "file_extension": ".py",
   "mimetype": "text/x-python",
   "name": "python",
   "nbconvert_exporter": "python",
   "pygments_lexer": "ipython3",
   "version": "3.11.7"
  }
 },
 "nbformat": 4,
 "nbformat_minor": 5
}
